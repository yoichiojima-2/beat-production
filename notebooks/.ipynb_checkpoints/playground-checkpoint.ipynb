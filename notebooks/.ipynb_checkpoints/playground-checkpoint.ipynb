{
 "cells": [
  {
   "cell_type": "code",
   "execution_count": 1,
   "id": "e7e4c47e-9ba8-46ad-bc92-2651903f2274",
   "metadata": {},
   "outputs": [],
   "source": [
    "%load_ext autoreload\n",
    "%autoreload 2"
   ]
  },
  {
   "cell_type": "markdown",
   "id": "f8608ef2-67ff-4250-bf8d-654ebd174144",
   "metadata": {},
   "source": [
    "# import"
   ]
  },
  {
   "cell_type": "code",
   "execution_count": 2,
   "id": "826552c4-8f58-4f1d-bf6e-133a5ca41174",
   "metadata": {},
   "outputs": [],
   "source": [
    "import time\n",
    "import mido\n",
    "from mido import Message"
   ]
  },
  {
   "cell_type": "markdown",
   "id": "1db2b147-e1cd-4714-a8e2-4bb93bc66333",
   "metadata": {},
   "source": [
    "# learn how to play prophet with python"
   ]
  },
  {
   "cell_type": "code",
   "execution_count": 3,
   "id": "4adaf031-24ed-4eed-b05b-2b5ea9c2f968",
   "metadata": {},
   "outputs": [],
   "source": [
    "outport = mido.open_output(\"Scarlett 18i20 USB\")"
   ]
  },
  {
   "cell_type": "code",
   "execution_count": 4,
   "id": "d129fae8-3e2d-47c1-82c6-8a90a3b7d716",
   "metadata": {},
   "outputs": [],
   "source": [
    "# playing one note\n",
    "# E\n",
    "outport.send(Message(\"note_on\", note = 64, velocity = 64))\n",
    "time.sleep(1)\n",
    "outport.send(Message(\"note_off\", note = 64, velocity = 64))"
   ]
  },
  {
   "cell_type": "code",
   "execution_count": 5,
   "id": "4276e00f-2cba-48fa-9404-2288ea60834d",
   "metadata": {},
   "outputs": [],
   "source": [
    "# playing chord\n",
    "# E maj\n",
    "outport.send(Message(\"note_on\", note = 64, velocity = 64))\n",
    "outport.send(Message(\"note_on\", note = 68, velocity = 64))\n",
    "outport.send(Message(\"note_on\", note = 71, velocity = 64))\n",
    "time.sleep(1)\n",
    "outport.send(Message(\"note_off\", note = 64, velocity = 64))\n",
    "outport.send(Message(\"note_off\", note = 68, velocity = 64))\n",
    "outport.send(Message(\"note_off\", note = 71, velocity = 64))"
   ]
  },
  {
   "cell_type": "code",
   "execution_count": 6,
   "id": "bb69c393-5cd9-49ff-96c4-893ab80c67eb",
   "metadata": {},
   "outputs": [],
   "source": [
    "# playing gliss\n",
    "for i in range(20):\n",
    "    outport.send(Message(\"note_on\", note = 64 + i, velocity = 64))\n",
    "    time.sleep(0.1)\n",
    "    outport.send(Message(\"note_off\", note = 64 + i, velocity = 64))"
   ]
  },
  {
   "cell_type": "markdown",
   "id": "ded5458a-2bf7-4c2a-86a5-8f3e81274432",
   "metadata": {},
   "source": [
    "# defining modes"
   ]
  },
  {
   "cell_type": "code",
   "execution_count": 7,
   "id": "c1b0a20c-6603-4e9d-ac22-6718550a7bbc",
   "metadata": {},
   "outputs": [],
   "source": [
    "from modes import *"
   ]
  },
  {
   "cell_type": "code",
   "execution_count": 8,
   "id": "ee9279bf-4ad8-47f9-bbac-723126caab1a",
   "metadata": {},
   "outputs": [],
   "source": [
    "key = 64\n",
    "# brighter to darker\n",
    "for mode in [lydian, mixolydian, dorian, aeolian, phrygian, locrian]:\n",
    "    for note in mode(key):\n",
    "        outport.send(Message(\"note_on\", note = note, velocity = 64))\n",
    "        time.sleep(0.1)\n",
    "        outport.send(Message(\"note_off\", note = note, velocity = 64))\n",
    "    time.sleep(1)"
   ]
  },
  {
   "cell_type": "code",
   "execution_count": null,
   "id": "c07c5473-4f9d-4aad-b33e-c9182693b93b",
   "metadata": {},
   "outputs": [],
   "source": [
    "key = 64\n",
    "# brighter to darker\n",
    "for mode in [lydian, mixolydian, dorian, aeolian, phrygian, locrian]:\n",
    "    for note in mode(key):\n",
    "        outport.send(Message(\"note_on\", note = note, velocity = 64))\n",
    "        time.sleep(0.1)\n",
    "        outport.send(Message(\"note_off\", note = note, velocity = 64))\n",
    "    for note in mode(key):\n",
    "        octave_semitones = 12\n",
    "        outport.send(Message(\"note_on\", note = note + octave_semitones, velocity = 64))\n",
    "        time.sleep(0.1)\n",
    "        outport.send(Message(\"note_off\", note = note + octave_semitones, velocity = 64))\n",
    "    for note in mode(key):\n",
    "        octave_semitones = 12\n",
    "        outport.send(Message(\"note_on\", note = note + octave_semitones * 2, velocity = 64))\n",
    "        time.sleep(0.1)\n",
    "        outport.send(Message(\"note_off\", note = note + octave_semitones * 2, velocity = 64))\n",
    "\n",
    "    time.sleep(1)"
   ]
  },
  {
   "cell_type": "code",
   "execution_count": null,
   "id": "c27eda34-134b-4538-9246-fc1f7cc25ee6",
   "metadata": {},
   "outputs": [],
   "source": []
  }
 ],
 "metadata": {
  "kernelspec": {
   "display_name": "Python 3 (ipykernel)",
   "language": "python",
   "name": "python3"
  },
  "language_info": {
   "codemirror_mode": {
    "name": "ipython",
    "version": 3
   },
   "file_extension": ".py",
   "mimetype": "text/x-python",
   "name": "python",
   "nbconvert_exporter": "python",
   "pygments_lexer": "ipython3",
   "version": "3.12.1"
  }
 },
 "nbformat": 4,
 "nbformat_minor": 5
}
