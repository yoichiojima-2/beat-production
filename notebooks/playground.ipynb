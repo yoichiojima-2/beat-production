{
 "cells": [
  {
   "cell_type": "markdown",
   "id": "f8608ef2-67ff-4250-bf8d-654ebd174144",
   "metadata": {},
   "source": [
    "# import"
   ]
  },
  {
   "cell_type": "code",
   "execution_count": 4,
   "id": "826552c4-8f58-4f1d-bf6e-133a5ca41174",
   "metadata": {},
   "outputs": [],
   "source": [
    "import time\n",
    "import mido\n",
    "from mido import Message"
   ]
  },
  {
   "cell_type": "markdown",
   "id": "1db2b147-e1cd-4714-a8e2-4bb93bc66333",
   "metadata": {},
   "source": [
    "# learn how to play prophet with python"
   ]
  },
  {
   "cell_type": "code",
   "execution_count": 28,
   "id": "4adaf031-24ed-4eed-b05b-2b5ea9c2f968",
   "metadata": {},
   "outputs": [],
   "source": [
    "outport = mido.open_output(\"Scarlett 18i20 USB\")"
   ]
  },
  {
   "cell_type": "code",
   "execution_count": 37,
   "id": "d129fae8-3e2d-47c1-82c6-8a90a3b7d716",
   "metadata": {},
   "outputs": [],
   "source": [
    "# playing one note\n",
    "# E\n",
    "outport.send(Message(\"note_on\", note = 64, velocity = 64))\n",
    "time.sleep(1)\n",
    "outport.send(Message(\"note_off\", note = 64, velocity = 64))"
   ]
  },
  {
   "cell_type": "code",
   "execution_count": 38,
   "id": "4276e00f-2cba-48fa-9404-2288ea60834d",
   "metadata": {},
   "outputs": [],
   "source": [
    "# playing chord\n",
    "# E maj\n",
    "outport.send(Message(\"note_on\", note = 64, velocity = 64))\n",
    "outport.send(Message(\"note_on\", note = 68, velocity = 64))\n",
    "outport.send(Message(\"note_on\", note = 71, velocity = 64))\n",
    "time.sleep(1)\n",
    "outport.send(Message(\"note_off\", note = 64, velocity = 64))\n",
    "outport.send(Message(\"note_off\", note = 68, velocity = 64))\n",
    "outport.send(Message(\"note_off\", note = 71, velocity = 64))"
   ]
  },
  {
   "cell_type": "code",
   "execution_count": 39,
   "id": "bb69c393-5cd9-49ff-96c4-893ab80c67eb",
   "metadata": {},
   "outputs": [],
   "source": [
    "# playing gliss\n",
    "for i in range(20):\n",
    "    outport.send(Message(\"note_on\", note = 64 + i, velocity = 64))\n",
    "    time.sleep(0.1)\n",
    "    outport.send(Message(\"note_off\", note = 64 + i, velocity = 64))"
   ]
  },
  {
   "cell_type": "code",
   "execution_count": null,
   "id": "3ac2e34d-e248-451d-9feb-58c0d985eb2f",
   "metadata": {},
   "outputs": [],
   "source": []
  }
 ],
 "metadata": {
  "kernelspec": {
   "display_name": "Python 3 (ipykernel)",
   "language": "python",
   "name": "python3"
  },
  "language_info": {
   "codemirror_mode": {
    "name": "ipython",
    "version": 3
   },
   "file_extension": ".py",
   "mimetype": "text/x-python",
   "name": "python",
   "nbconvert_exporter": "python",
   "pygments_lexer": "ipython3",
   "version": "3.12.1"
  }
 },
 "nbformat": 4,
 "nbformat_minor": 5
}
